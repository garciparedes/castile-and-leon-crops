{
  "cells": [
    {
      "cell_type": "markdown",
      "source": [
        "# Castile and Leon: Crops\n",
        "\n",
        "### Description:\n",
        "TODO\n",
        "\n",
        "### Author:\n",
        "Sergio García Prado ([garciparedes.me](https://garciparedes.me))"
      ],
      "metadata": {}
    },
    {
      "cell_type": "code",
      "source": [
        "library(readr)\n",
        "library(ggplot2)\n",
        "library(dplyr)\n",
        "library(tidyr)\n",
        "library(RSocrata)\n",
        "library(ca)"
      ],
      "outputs": [],
      "execution_count": null,
      "metadata": {}
    },
    {
      "cell_type": "markdown",
      "source": [
        "## Data Adquisition:"
      ],
      "metadata": {}
    },
    {
      "cell_type": "code",
      "source": [
        "crops.herbaceous <- read.socrata(\"https://analisis.datosabiertos.jcyl.es/resource/agu2-cspz.csv\")"
      ],
      "outputs": [],
      "execution_count": null,
      "metadata": {
        "collapsed": false,
        "outputHidden": false,
        "inputHidden": false
      }
    },
    {
      "cell_type": "code",
      "source": [
        "crops.woody <- read.socrata(\"https://analisis.datosabiertos.jcyl.es/resource/2vwa-si9n.csv\")"
      ],
      "outputs": [],
      "execution_count": null,
      "metadata": {}
    },
    {
      "cell_type": "markdown",
      "source": [
        "## Data Exploration:"
      ],
      "metadata": {}
    },
    {
      "cell_type": "code",
      "source": [
        "colnames(crops.herbaceous)"
      ],
      "outputs": [],
      "execution_count": null,
      "metadata": {}
    },
    {
      "cell_type": "markdown",
      "source": [
        "#### Remove Empty Columns"
      ],
      "metadata": {}
    },
    {
      "cell_type": "code",
      "source": [
        "crops.herbaceous <- crops.herbaceous %>%\n",
        "    select(a_o:ocupaci_n_primera_secano)"
      ],
      "outputs": [],
      "execution_count": null,
      "metadata": {
        "collapsed": false,
        "outputHidden": false,
        "inputHidden": false
      }
    },
    {
      "cell_type": "markdown",
      "source": [
        "#### View Data Sample"
      ],
      "metadata": {}
    },
    {
      "cell_type": "code",
      "source": [
        "sample_n(crops.herbaceous, 10)"
      ],
      "outputs": [],
      "execution_count": null,
      "metadata": {
        "collapsed": false,
        "outputHidden": false,
        "inputHidden": false
      }
    },
    {
      "cell_type": "code",
      "source": [
        "crops.herbaceous %>%\n",
        "  select(a_o, cultivo, grupo_de_cultivo, ocupaci_n_primera_secano) %>%\n",
        "  filter(ocupaci_n_primera_secano > 0) %>%\n",
        "  group_by(grupo_de_cultivo, cultivo) %>%\n",
        "  summarise(ocupacion = sum(ocupaci_n_primera_secano, na.rm = TRUE)) %>%\n",
        "  mutate(ocupacion.log = log(ocupacion)) %>%\n",
        "  filter(ocupacion.log > 0) %>%\n",
        "  ggplot(aes(x = reorder(cultivo, ocupacion.log), y = ocupacion.log)) + \n",
        "    geom_bar(aes(fill = grupo_de_cultivo), stat = \"identity\") + \n",
        "    coord_flip()"
      ],
      "outputs": [],
      "execution_count": null,
      "metadata": {}
    },
    {
      "cell_type": "code",
      "source": [
        "crops.herbaceous %>%\n",
        "  select(a_o, cultivo, grupo_de_cultivo, ocupaci_n_primera_regad_o) %>%\n",
        "  filter(ocupaci_n_primera_regad_o > 0) %>%\n",
        "  group_by(grupo_de_cultivo, cultivo) %>%\n",
        "  summarise(ocupacion = sum(ocupaci_n_primera_regad_o, na.rm = TRUE)) %>%\n",
        "  mutate(ocupacion.log = log(ocupacion)) %>%\n",
        "  filter(ocupacion.log > 0) %>%\n",
        "  ggplot(aes(x = reorder(cultivo, ocupacion.log), y = ocupacion.log)) + \n",
        "    geom_bar(aes(fill = grupo_de_cultivo), stat = \"identity\") + \n",
        "    coord_flip()"
      ],
      "outputs": [],
      "execution_count": null,
      "metadata": {}
    },
    {
      "cell_type": "code",
      "source": [
        "crops.herbaceous %>%\n",
        "    select(grupo_de_cultivo, comarca, ocupaci_n_primera_secano) %>%\n",
        "    filter(ocupaci_n_primera_secano > 0) %>%\n",
        "    xtabs(formula = ocupaci_n_primera_secano ~ .) %>%\n",
        "    ca() %>% \n",
        "    plot()"
      ],
      "outputs": [],
      "execution_count": null,
      "metadata": {
        "collapsed": false,
        "outputHidden": false,
        "inputHidden": false
      }
    }
  ],
  "metadata": {
    "kernelspec": {
      "name": "ir",
      "language": "R",
      "display_name": "R"
    },
    "language_info": {
      "name": "R",
      "codemirror_mode": "r",
      "pygments_lexer": "r",
      "mimetype": "text/x-r-source",
      "file_extension": ".r",
      "version": "3.4.3"
    },
    "kernel_info": {
      "name": "ir"
    },
    "nteract": {
      "version": "0.5.5"
    }
  },
  "nbformat": 4,
  "nbformat_minor": 2
}